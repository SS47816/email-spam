{
 "cells": [
  {
   "cell_type": "markdown",
   "id": "0af2904e-7863-4612-a320-a4919eb4db68",
   "metadata": {},
   "source": [
    "# EE5907/EE5027 Programming Assignment CA1\n",
    "\n",
    "> SUN Shuo A0162488U"
   ]
  },
  {
   "cell_type": "markdown",
   "id": "b7f80225-3bcf-48ea-a11d-fe8a385ceb7b",
   "metadata": {},
   "source": [
    "## Data Processing"
   ]
  },
  {
   "cell_type": "code",
   "execution_count": 3,
   "id": "e473df4a-bbdb-4191-9efa-2d6568133b81",
   "metadata": {},
   "outputs": [
    {
     "name": "stdout",
     "output_type": "stream",
     "text": [
      "{'__header__': b'MATLAB 5.0 MAT-file, Platform: GLNXA64, Created on: Mon Aug 16 16:33:53 2021', '__version__': '1.0', '__globals__': [], 'Xtrain': array([[  0.   ,   0.   ,   0.   , ...,   4.5  ,  34.   , 108.   ],\n",
      "       [  0.   ,   0.   ,   0.71 , ...,   1.974,  34.   , 229.   ],\n",
      "       [  0.   ,   0.   ,   0.   , ...,   1.   ,   1.   ,   5.   ],\n",
      "       ...,\n",
      "       [  0.   ,   0.   ,   0.   , ...,   1.884,   9.   ,  98.   ],\n",
      "       [  0.   ,   0.   ,   0.7  , ...,   1.333,   4.   ,  16.   ],\n",
      "       [  0.   ,   0.   ,   0.   , ...,   1.   ,   1.   ,   4.   ]]), 'Xtest': array([[1.500e-01, 0.000e+00, 6.300e-01, ..., 1.111e+00, 7.000e+00,\n",
      "        3.890e+02],\n",
      "       [0.000e+00, 0.000e+00, 7.000e-01, ..., 1.820e+00, 1.800e+01,\n",
      "        3.040e+02],\n",
      "       [5.800e-01, 0.000e+00, 1.900e-01, ..., 3.015e+00, 2.100e+01,\n",
      "        1.900e+02],\n",
      "       ...,\n",
      "       [0.000e+00, 0.000e+00, 0.000e+00, ..., 1.142e+00, 3.000e+00,\n",
      "        4.000e+01],\n",
      "       [0.000e+00, 0.000e+00, 3.100e-01, ..., 1.515e+00, 1.000e+01,\n",
      "        1.440e+02],\n",
      "       [0.000e+00, 0.000e+00, 0.000e+00, ..., 2.080e+00, 1.200e+01,\n",
      "        1.040e+02]]), 'ytrain': array([[1],\n",
      "       [1],\n",
      "       [0],\n",
      "       ...,\n",
      "       [0],\n",
      "       [1],\n",
      "       [1]], dtype=uint8), 'ytest': array([[0],\n",
      "       [0],\n",
      "       [1],\n",
      "       ...,\n",
      "       [0],\n",
      "       [1],\n",
      "       [1]], dtype=uint8)}\n"
     ]
    }
   ],
   "source": [
    "import scipy.io\n",
    "mat = scipy.io.loadmat('data/spamData.mat')\n",
    "print(mat)"
   ]
  },
  {
   "cell_type": "markdown",
   "id": "0f7ca288-86b1-4ea3-b7f6-254a6b22e0a4",
   "metadata": {},
   "source": [
    "## Q1. Beta-binomial Naive Bayes (24%)\n"
   ]
  },
  {
   "cell_type": "code",
   "execution_count": null,
   "id": "9f3a72fd-d423-4c2a-9760-29f9793fe917",
   "metadata": {},
   "outputs": [],
   "source": []
  },
  {
   "cell_type": "code",
   "execution_count": null,
   "id": "efc814a7-7515-40bc-878e-5918ee9a62d9",
   "metadata": {},
   "outputs": [],
   "source": []
  }
 ],
 "metadata": {
  "kernelspec": {
   "display_name": "Python 3 (ipykernel)",
   "language": "python",
   "name": "python3"
  },
  "language_info": {
   "codemirror_mode": {
    "name": "ipython",
    "version": 3
   },
   "file_extension": ".py",
   "mimetype": "text/x-python",
   "name": "python",
   "nbconvert_exporter": "python",
   "pygments_lexer": "ipython3",
   "version": "3.8.11"
  }
 },
 "nbformat": 4,
 "nbformat_minor": 5
}
