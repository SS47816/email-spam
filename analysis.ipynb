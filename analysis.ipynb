{
 "cells": [
  {
   "cell_type": "markdown",
   "id": "0af2904e-7863-4612-a320-a4919eb4db68",
   "metadata": {},
   "source": [
    "# EE5907/EE5027 Programming Assignment CA1\n",
    "\n",
    "> by: SUN Shuo A0162488U\n",
    "> \n",
    "> \"You may just run the code blocks all the way till the end\""
   ]
  },
  {
   "cell_type": "markdown",
   "id": "b7f80225-3bcf-48ea-a11d-fe8a385ceb7b",
   "metadata": {},
   "source": [
    "## Data Processing"
   ]
  },
  {
   "cell_type": "code",
   "execution_count": 21,
   "id": "e473df4a-bbdb-4191-9efa-2d6568133b81",
   "metadata": {},
   "outputs": [
    {
     "name": "stdout",
     "output_type": "stream",
     "text": [
      "X train <class 'numpy.ndarray'> shape: (3, 2) dtype: int64\n",
      "X test <class 'numpy.ndarray'> shape: (1, 2) dtype: int64\n",
      "y train <class 'numpy.ndarray'> shape: (3, 1) dtype: int64\n",
      "y test <class 'numpy.ndarray'> shape: (1, 1) dtype: int64\n"
     ]
    }
   ],
   "source": [
    "import scipy.io\n",
    "import numpy as np\n",
    "\n",
    "# Load mat data\n",
    "mat_data = scipy.io.loadmat('data/spamData.mat')\n",
    "#print(mat_data)\n",
    "x_train = mat_data['Xtrain']\n",
    "x_test = mat_data['Xtest']\n",
    "y_train = mat_data['ytrain']\n",
    "y_test = mat_data['ytest']\n",
    "\n",
    "x_train = np.array([(1,0), (1,1), (0,0)]).reshape(-1,2)\n",
    "x_test = np.array([(1,0)]).reshape(-1,2)\n",
    "y_train = np.array([1, 1, 0]).reshape(-1,1)\n",
    "y_test = np.array([1]).reshape(-1,1)\n",
    "\n",
    "# Check data shapes and types\n",
    "print(\"X train\", type(x_train), \"shape:\", x_train.shape, \"dtype:\", x_train.dtype)\n",
    "print(\"X test\", type(x_test), \"shape:\", x_test.shape, \"dtype:\", x_test.dtype)\n",
    "print(\"y train\", type(y_train), \"shape:\", y_train.shape, \"dtype:\", y_train.dtype)\n",
    "print(\"y test\", type(y_test), \"shape:\", y_test.shape, \"dtype:\", y_test.dtype)\n",
    "\n",
    "# Log Transform\n",
    "x_train_log = np.log(x_train + 0.1)\n",
    "x_test_log = np.log(x_test + 0.1)\n",
    "#print(x_train_log)\n",
    "#print(x_test_log)\n",
    "\n",
    "# Binarization \n",
    "x_train_bin = (x_train > 0) * 1\n",
    "x_test_bin = (x_test > 0) * 1\n",
    "#print(x_train_bin)\n",
    "#print(x_test_bin)\n"
   ]
  },
  {
   "cell_type": "markdown",
   "id": "0f7ca288-86b1-4ea3-b7f6-254a6b22e0a4",
   "metadata": {},
   "source": [
    "## Q1. Beta-binomial Naive Bayes (24%)"
   ]
  },
  {
   "cell_type": "code",
   "execution_count": 28,
   "id": "9f3a72fd-d423-4c2a-9760-29f9793fe917",
   "metadata": {},
   "outputs": [
    {
     "name": "stdout",
     "output_type": "stream",
     "text": [
      "lambda_ml: 0.6666666666666666\n",
      "N: 1 N_1: 0\n",
      "Term( 0 , 0 ) is: 0.4\n",
      "N: 1 N_1: 0\n",
      "Term( 0 , 1 ) is: 0.6\n",
      "N: 2 N_1: 2\n",
      "Term( 0 , 0 ) is: 0.6666666666666666\n",
      "N: 2 N_1: 1\n",
      "Term( 0 , 1 ) is: 0.5\n",
      "-2.525728644308255\n",
      "-1.5040773967762742\n"
     ]
    }
   ],
   "source": [
    "# Set experimenting alpha values\n",
    "alphas = np.arange(0, 100.5, 0.5)\n",
    "#print(alphas)\n",
    "\n",
    "def beta(N, N_1, alpha):\n",
    "    \"\"\"\n",
    "    Compute the Beta(`alpha`, `alpha`) distribution\n",
    "    \"\"\"\n",
    "    if (N + 2*alpha) > 0:\n",
    "        return (N_1 + alpha)/(N + 2*alpha)\n",
    "    else:\n",
    "        return 0\n",
    "\n",
    "def featureLikelihood(X_train, Y_train, j, x_j, c, alpha):\n",
    "    \"\"\"\n",
    "    Compute the feature likelihood term for one (x_test, y_test=c) data point\n",
    "    Class: `c`, Feature: `j`:\n",
    "    p(x_test_j| x_i_j, y_test=c)\n",
    "    \"\"\"\n",
    "    N = (Y_train == c).sum()\n",
    "    X_train_j = X_train[:, j].reshape(-1, 1)\n",
    "    #print((Y_train == c).shape)\n",
    "    #print(X_train_j.shape)\n",
    "    N_1 = (X_train_j[Y_train == c] == 1).sum()\n",
    "    print(\"N:\", N, \"N_1:\", N_1)\n",
    "    \n",
    "    if x_j == 1:\n",
    "        return beta(N, N_1, alpha)\n",
    "    else:\n",
    "        return 1 - beta(N, N_1, alpha)\n",
    "\n",
    "def posteriorPredictiveDistribution(X_train, Y_train, X_test, c, alpha):\n",
    "    \"\"\"\n",
    "    Compute the posterior predictive distribution of test feature\n",
    "    SUM of log(p(x_test_j | x_i_j, y_test=c))\n",
    "    \"\"\"\n",
    "    p_sum = 0\n",
    "    # For the i-th test data\n",
    "    for i in range(X_test.shape[0]):\n",
    "        # For its j-th feature\n",
    "        for j in range(X_test.shape[1]):\n",
    "            p = featureLikelihood(X_train, Y_train, j, X_test[i][j], c, alpha)\n",
    "            p_sum = p_sum + np.log(p)\n",
    "            print(\"Term(\", i, \",\", j, \") is:\", p)\n",
    "            \n",
    "    return p_sum\n",
    "    \n",
    "\n",
    "# Class label prior lambda\n",
    "lambda_ml = (y_train == 1).sum() / y_train.shape[0]\n",
    "print(\"lambda_ml:\", lambda_ml)\n",
    "\n",
    "P_0 = np.log(1 - lambda_ml) + posteriorPredictiveDistribution(x_train_bin, y_train, x_test_bin, 0, 2)\n",
    "P_1 = np.log(lambda_ml) + posteriorPredictiveDistribution(x_train_bin, y_train, x_test_bin, 1, 2)\n",
    "print(P_0)\n",
    "print(P_1)"
   ]
  },
  {
   "cell_type": "markdown",
   "id": "de55940a-bd42-4902-8c60-cd6fdc061cb9",
   "metadata": {},
   "source": [
    "## Q2. Gaussian Naive Bayes (24%)"
   ]
  },
  {
   "cell_type": "code",
   "execution_count": null,
   "id": "ce86e502-b422-434a-8c2d-f7ecf11d4409",
   "metadata": {},
   "outputs": [],
   "source": []
  },
  {
   "cell_type": "markdown",
   "id": "26c78a97-7205-431a-8f20-cf8dc110a303",
   "metadata": {},
   "source": [
    "## Q3. Logistic regression (24%)"
   ]
  },
  {
   "cell_type": "code",
   "execution_count": null,
   "id": "90afebe3-140f-4328-a6be-cb9dfc6cb201",
   "metadata": {},
   "outputs": [],
   "source": []
  },
  {
   "cell_type": "markdown",
   "id": "fc8ca0f5-ee13-4d45-91e5-3e4f510683f8",
   "metadata": {},
   "source": [
    "## Q4. K-Nearest Neighbors (24%)"
   ]
  },
  {
   "cell_type": "code",
   "execution_count": null,
   "id": "926cd4f9-4256-4b1f-9640-e5a8c1fd16e0",
   "metadata": {},
   "outputs": [],
   "source": []
  }
 ],
 "metadata": {
  "kernelspec": {
   "display_name": "Python 3",
   "language": "python",
   "name": "python3"
  },
  "language_info": {
   "codemirror_mode": {
    "name": "ipython",
    "version": 3
   },
   "file_extension": ".py",
   "mimetype": "text/x-python",
   "name": "python",
   "nbconvert_exporter": "python",
   "pygments_lexer": "ipython3",
   "version": "3.8.8"
  }
 },
 "nbformat": 4,
 "nbformat_minor": 5
}
