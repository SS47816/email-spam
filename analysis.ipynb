{
 "cells": [
  {
   "cell_type": "markdown",
   "id": "0af2904e-7863-4612-a320-a4919eb4db68",
   "metadata": {},
   "source": [
    "# EE5907/EE5027 Programming Assignment CA1\n",
    "\n",
    "> by: SUN Shuo A0162488U\n",
    "> \n",
    "> \"You may just run the code blocks all the way till the end\""
   ]
  },
  {
   "cell_type": "markdown",
   "id": "b7f80225-3bcf-48ea-a11d-fe8a385ceb7b",
   "metadata": {},
   "source": [
    "## Data Processing"
   ]
  },
  {
   "cell_type": "code",
   "execution_count": 1,
   "id": "e473df4a-bbdb-4191-9efa-2d6568133b81",
   "metadata": {},
   "outputs": [
    {
     "name": "stdout",
     "output_type": "stream",
     "text": [
      "X train <class 'numpy.ndarray'> shape: (3065, 57) dtype: float64\n",
      "y train <class 'numpy.ndarray'> shape: (3065, 1) dtype: uint8\n",
      "X test <class 'numpy.ndarray'> shape: (1536, 57) dtype: float64\n",
      "y test <class 'numpy.ndarray'> shape: (1536, 1) dtype: uint8\n"
     ]
    }
   ],
   "source": [
    "%matplotlib inline\n",
    "import scipy.io\n",
    "import numpy as np\n",
    "from tqdm import tqdm\n",
    "import matplotlib.pyplot as plt\n",
    "\n",
    "# Load mat data\n",
    "mat_data = scipy.io.loadmat('data/spamData.mat')\n",
    "#print(mat_data)\n",
    "x_train = mat_data['Xtrain']\n",
    "y_train = mat_data['ytrain']\n",
    "x_test = mat_data['Xtest']\n",
    "y_test = mat_data['ytest']\n",
    "\n",
    "#x_train = np.array([(1,0), (1,1), (0,0)]).reshape(-1,2)\n",
    "#y_train = np.array([1, 1, 0]).reshape(-1,1)\n",
    "#x_test = np.array([(1,0), (1,0)]).reshape(-1,2)\n",
    "#y_test = np.array([1, 1]).reshape(-1,1)\n",
    "\n",
    "# Check data shapes and types\n",
    "print(\"X train\", type(x_train), \"shape:\", x_train.shape, \"dtype:\", x_train.dtype)\n",
    "print(\"y train\", type(y_train), \"shape:\", y_train.shape, \"dtype:\", y_train.dtype)\n",
    "print(\"X test\", type(x_test), \"shape:\", x_test.shape, \"dtype:\", x_test.dtype)\n",
    "print(\"y test\", type(y_test), \"shape:\", y_test.shape, \"dtype:\", y_test.dtype)\n",
    "\n",
    "# Binarization \n",
    "x_train_bin = (x_train > 0) * 1\n",
    "x_test_bin = (x_test > 0) * 1\n",
    "#print(x_train_bin)\n",
    "#print(x_test_bin)\n",
    "\n",
    "# Log Transform\n",
    "x_train_log = np.log(x_train + 0.1)\n",
    "x_test_log = np.log(x_test + 0.1)\n",
    "#print(x_train_log)\n",
    "#print(x_test_log)"
   ]
  },
  {
   "cell_type": "markdown",
   "id": "0f7ca288-86b1-4ea3-b7f6-254a6b22e0a4",
   "metadata": {},
   "source": [
    "## Q1. Beta-binomial Naive Bayes (24%)"
   ]
  },
  {
   "cell_type": "code",
   "execution_count": 6,
   "id": "9f3a72fd-d423-4c2a-9760-29f9793fe917",
   "metadata": {},
   "outputs": [],
   "source": [
    "def beta(N, N_1, a, b):\n",
    "    \"\"\"\n",
    "    Compute the Beta(`alpha`, `alpha`) distribution\n",
    "    \"\"\"\n",
    "    if (N + a + b) > 0:\n",
    "        return (N_1 + a)/(N + a + b)\n",
    "    else:\n",
    "        return 0\n",
    "    \n",
    "def computeFeatureLikelihood(X_train, Y_train, alpha):\n",
    "    \"\"\"\n",
    "    Compute the feature likelihood term on all training data\n",
    "    Class: `c`, Feature: `j`: p(x_test_j| x_i_j, y_test=c)\n",
    "    \"\"\"\n",
    "    eta = np.zeros((X_train.shape[1], 2))\n",
    "    for j in range(X_train.shape[1]):\n",
    "        X_train_j = X_train[:, j].reshape(-1, 1)\n",
    "        N_1 = (X_train_j[Y_train == 1] == 1).sum()\n",
    "        N_0 = (X_train_j[Y_train == 0] == 1).sum()\n",
    "        #print(\"N:\", N, \"N_1:\", N_1)\n",
    "        eta[j,1] = beta((Y_train == 1).sum(), N_1, alpha, alpha)\n",
    "        eta[j,0] = beta((Y_train == 0).sum(), N_0, alpha, alpha)\n",
    "        \n",
    "    return eta\n",
    "\n",
    "def lookUpfeatureLikelihood(eta, j, x_j, c):\n",
    "    \"\"\"\n",
    "    Look up for the feature likelihood term for one (x_test, y_test=c) data point\n",
    "    Class: `c`, Feature: `j`: p(x_test_j| x_i_j, y_test=c)\n",
    "    \"\"\"\n",
    "    if x_j == 1:\n",
    "        return eta[j, c]\n",
    "    else:\n",
    "        return 1 - eta[j, c]\n",
    "\n",
    "def posteriorPredictiveDistribution(X_test, i, c, eta):\n",
    "    \"\"\"\n",
    "    Compute the posterior predictive distribution of test feature\n",
    "    SUM of log(p(x_test_j | x_i_j, y_test=c))\n",
    "    \"\"\"\n",
    "    p_sum = 0\n",
    "    # For its j-th feature\n",
    "    for j in range(X_test.shape[1]):\n",
    "        p = lookUpfeatureLikelihood(eta, j, X_test[i][j], c)\n",
    "        if p > 0:\n",
    "            p_sum += np.log(p)\n",
    "        #print(\"Term(\", i, \",\", j, \") is:\", p)\n",
    "            \n",
    "    return p_sum\n",
    "    \n",
    "def betaBinomialNaiveBayes(X_train, Y_train, X_test, alpha):\n",
    "    \"\"\"\n",
    "    Fit a Beta Binomial Naive Bayes Classifier on the `X_train`, `Y_train` data,\n",
    "    and predict the results `Y_pred` with the given `alpha`\n",
    "    \"\"\"\n",
    "    # Class label prior lambda\n",
    "    lambda_ml = (Y_train == 1).sum() / Y_train.shape[0]\n",
    "    #print(\"lambda_ml:\", lambda_ml)\n",
    "    eta = computeFeatureLikelihood(X_train, Y_train, alpha)\n",
    "    \n",
    "    Y_pred = np.zeros((X_test.shape[0], 1), dtype=int)\n",
    "    # For the i-th test data\n",
    "    for i in range(Y_pred.shape[0]):\n",
    "        P_0 = np.log(1 - lambda_ml) + posteriorPredictiveDistribution(X_test, i, 0, eta)\n",
    "        P_1 = np.log(lambda_ml) + posteriorPredictiveDistribution(X_test, i, 1, eta)\n",
    "        #print(P_0)\n",
    "        #print(P_1)\n",
    "        if P_0 < P_1:\n",
    "            Y_pred[i][0] = 1\n",
    "        #print(Y_pred)\n",
    "        #print(\"y predict\", type(Y_pred), \"shape:\", Y_pred.shape, \"dtype:\", Y_pred.dtype)\n",
    "    \n",
    "    return Y_pred\n",
    "\n",
    "def computeErrorRate(X_train, Y_train, X_test, Y_test, alpha):\n",
    "    \"\"\"\n",
    "    Compute the Error Rate based on the `Y_pred` result and the given ground truth `Y_test`, \n",
    "    with a given alpha values\n",
    "    \"\"\"\n",
    "    Y_pred = betaBinomialNaiveBayes(X_train, Y_train, X_test, alpha)\n",
    "    num_error = (Y_pred != Y_test).sum()\n",
    "    \n",
    "    return num_error/Y_test.shape[0]\n",
    "    \n",
    "def compareAlphas(X_train, Y_train, X_test, Y_test, alphas):\n",
    "    \"\"\"\n",
    "    Compute the Error Rate based on the `Y_pred` result and the given ground truth `Y_test`, \n",
    "    with varying alpha values\n",
    "    \"\"\"\n",
    "    error_rates = np.zeros((alphas.shape[0], 1))\n",
    "    for i in tqdm(range(alphas.shape[0])):\n",
    "        error_rates[i] = computeErrorRate(X_train, Y_train, X_test, Y_test, alphas[i])\n",
    "        \n",
    "    return error_rates\n",
    "    "
   ]
  },
  {
   "cell_type": "markdown",
   "id": "0c6f9d8c-56b2-4a85-994a-3d46b8aed5d3",
   "metadata": {},
   "source": [
    "### Compute and Plot Results"
   ]
  },
  {
   "cell_type": "code",
   "execution_count": 7,
   "id": "ef0ee6c4-6832-4d9a-91bf-ebf26097ad05",
   "metadata": {},
   "outputs": [
    {
     "name": "stdout",
     "output_type": "stream",
     "text": [
      "Plotting error rates on the training set:\n"
     ]
    },
    {
     "name": "stderr",
     "output_type": "stream",
     "text": [
      "100%|███████████████████████████████████████████████████████████████████████| 201/201 [02:22<00:00,  1.41it/s]\n"
     ]
    },
    {
     "name": "stdout",
     "output_type": "stream",
     "text": [
      "Plotting error rates on the test set:\n"
     ]
    },
    {
     "name": "stderr",
     "output_type": "stream",
     "text": [
      "100%|███████████████████████████████████████████████████████████████████████| 201/201 [01:11<00:00,  2.82it/s]\n"
     ]
    },
    {
     "data": {
      "image/png": "[encoded data removed]",
      "text/plain": [
       "<Figure size 432x288 with 1 Axes>"
      ]
     },
     "metadata": {
      "needs_background": "light"
     },
     "output_type": "display_data"
    },
    {
     "name": "stdout",
     "output_type": "stream",
     "text": [
      "On the training set, the error rates for α = 1, 10, 100 are respectively: [0.11549755] , [0.12006525] , [0.14192496]\n",
      "On the test set, the error rates for α = 1, 10, 100 are respectively: [0.11588542] , [0.11914062] , [0.13671875]\n"
     ]
    }
   ],
   "source": [
    "# Set experimenting alpha values\n",
    "alphas = np.arange(0, 100.5, 0.5)\n",
    "print(\"Plotting error rates on the training set:\")\n",
    "train_error_rates = compareAlphas(x_train_bin, y_train, x_train_bin, y_train, alphas)\n",
    "print(\"Plotting error rates on the test set:\")\n",
    "test_error_rates = compareAlphas(x_train_bin, y_train, x_test_bin, y_test, alphas)\n",
    "\n",
    "# Plotting\n",
    "fig, ax = plt.subplots()\n",
    "line1, = ax.plot(alphas, train_error_rates, label='training')\n",
    "line2, = ax.plot(alphas, test_error_rates, dashes=[6, 2], label='test')\n",
    "\n",
    "ax.set(xlabel='α', ylabel='error rate', title='Q1. Beta-binomial Naive Bayes')\n",
    "ax.legend()\n",
    "ax.grid()\n",
    "\n",
    "fig.savefig(\"pics/q1.png\")\n",
    "plt.show()\n",
    "\n",
    "# Print some results\n",
    "print(\"On the training set, the error rates for α = 1, 10, 100 are respectively:\", \n",
    "      train_error_rates[2], \",\", train_error_rates[20], \",\", train_error_rates[-1])\n",
    "print(\"On the test set, the error rates for α = 1, 10, 100 are respectively:\", \n",
    "      test_error_rates[2], \",\", test_error_rates[20], \",\", test_error_rates[-1])"
   ]
  },
  {
   "cell_type": "markdown",
   "id": "de55940a-bd42-4902-8c60-cd6fdc061cb9",
   "metadata": {},
   "source": [
    "## Q2. Gaussian Naive Bayes (24%)"
   ]
  },
  {
   "cell_type": "code",
   "execution_count": 4,
   "id": "ce86e502-b422-434a-8c2d-f7ecf11d4409",
   "metadata": {},
   "outputs": [],
   "source": [
    "def gaussian(x, mu, sigma_sq):\n",
    "    \"\"\"\n",
    "    Compute the gaussian(`mu`, `sigma_sq`) distribution of `x`\n",
    "    \"\"\"\n",
    "    if sigma_sq > 0:\n",
    "        return 1/np.sqrt(2*np.pi*sigma_sq) * np.exp(-0.5*np.power((x - mu), 2)/sigma_sq)\n",
    "    else:\n",
    "        return 0\n",
    "    \n",
    "def paramMLEstimate(X_train, Y_train, c):\n",
    "    \"\"\"\n",
    "    Compute the ML estimate of `mean` and `var` for each feature\n",
    "    \"\"\"\n",
    "    row_idxs = []\n",
    "    for i in range(Y_train.shape[0]):\n",
    "        if Y_train[i][0] == c:\n",
    "            row_idxs.append(i)\n",
    "    X_train_c = X_train[np.array(row_idxs), :]\n",
    "    #print(\"X_train_c:\", X_train_c.shape)\n",
    "    mean = np.mean(X_train_c, axis=0)\n",
    "    var = np.var(X_train_c, axis=0)\n",
    "    #print(\"Mean:\", mean[0], \"shape:\", mean.shape)\n",
    "    #print(\"Var:\", var[0], \"shape:\", var.shape)\n",
    "    \n",
    "    return mean, var\n",
    "    \n",
    "def featureLikelihood(x_j, mu, sigma_sq):\n",
    "    \"\"\"\n",
    "    Compute the feature likelihood term for one (x_test, y_test=c) data point\n",
    "    Class: `c`, Feature: `j`: p(x_test_j| x_i_j, y_test=c)\n",
    "    \"\"\"\n",
    "    \n",
    "    return gaussian(x_j, mu, sigma_sq)\n",
    "    \n",
    "def sumFeatureLikelihood(X_test, Means, Vars, i, c):\n",
    "    \"\"\"\n",
    "    Compute the sum of test feature likelihood:\n",
    "    SUM(log(p(x_test_j | x_i_j, y_test=c)))\n",
    "    \"\"\"\n",
    "    p_sum = 0\n",
    "    for j in range(X_test.shape[1]):\n",
    "        p_sum += np.log(featureLikelihood(X_test[i][j], Means[c][j], Vars[c][j]))\n",
    "        \n",
    "    return p_sum\n",
    "\n",
    "def GaussianNaiveBayes(X_train, Y_train, X_test):\n",
    "    \"\"\"\n",
    "    Fit a Beta Binomial Naive Bayes Classifier on the `X_train`, `Y_train` data,\n",
    "    and predict the results `Y_pred` with the given `alpha`\n",
    "    \"\"\"\n",
    "    # Class label prior lambda\n",
    "    lambda_ml = (Y_train == 1).sum() / Y_train.shape[0]\n",
    "    #print(\"lambda_ml:\", lambda_ml)\n",
    "    Means = np.zeros((2, X_train.shape[1]))\n",
    "    Vars = np.zeros((2, X_train.shape[1]))\n",
    "    for i in range(2):\n",
    "        Means[i], Vars[i] = paramMLEstimate(X_train, Y_train, i)\n",
    "    #print(\"Means:\", Means, \"shape:\", Means.shape)\n",
    "    #print(\"Vars:\", Vars, \"shape:\", Vars.shape)\n",
    "    \n",
    "    Y_pred = np.zeros((X_test.shape[0], 1), dtype=int)\n",
    "    # For the i-th test data\n",
    "    for i in range(Y_pred.shape[0]):\n",
    "        P_0 = np.log(1 - lambda_ml) + sumFeatureLikelihood(X_test, Means, Vars, i, 0)\n",
    "        P_1 = np.log(lambda_ml) + sumFeatureLikelihood(X_test, Means, Vars, i, 1)\n",
    "        #print(P_0)\n",
    "        #print(P_1)\n",
    "        if P_0 < P_1:\n",
    "            Y_pred[i][0] = 1\n",
    "            \n",
    "    #print(Y_pred)\n",
    "    #print(\"y predict\", type(Y_pred), \"shape:\", Y_pred.shape, \"dtype:\", Y_pred.dtype)\n",
    "    \n",
    "    return Y_pred\n",
    "\n",
    "def computeErrorRate(X_train, Y_train, X_test, Y_test):\n",
    "    \"\"\"\n",
    "    Compute the Error Rate based on the `Y_pred` result and the given ground truth `Y_test`\n",
    "    \"\"\"\n",
    "    Y_pred = GaussianNaiveBayes(X_train, Y_train, X_test)\n",
    "    num_error = (Y_pred != Y_test).sum()\n",
    "    \n",
    "    return num_error/Y_test.shape[0]"
   ]
  },
  {
   "cell_type": "markdown",
   "id": "afff6860-e470-4c25-a715-5ec9fc1095b8",
   "metadata": {},
   "source": [
    "### Compute Results"
   ]
  },
  {
   "cell_type": "code",
   "execution_count": 5,
   "id": "623e293b-e6ca-467b-ba2c-d5be516e56d8",
   "metadata": {},
   "outputs": [
    {
     "name": "stderr",
     "output_type": "stream",
     "text": [
      "/var/folders/fg/jctl91s50mlb_ynfb3z_7xx80000gn/T/ipykernel_35686/4275886289.py:42: RuntimeWarning: divide by zero encountered in log\n",
      "  p_sum += np.log(featureLikelihood(X_test[i][j], Means[c][j], Vars[c][j]))\n"
     ]
    },
    {
     "name": "stdout",
     "output_type": "stream",
     "text": [
      "On the training set, the error rate is: 0.16574225122349104\n",
      "On the test set, the error rate is: 0.16015625\n"
     ]
    }
   ],
   "source": [
    "# Compute the train and test error rate\n",
    "train_error_rate = computeErrorRate(x_train_log, y_train, x_train_log, y_train)\n",
    "test_error_rate = computeErrorRate(x_train_log, y_train, x_test_log, y_test)\n",
    "\n",
    "# Print some results\n",
    "print(\"On the training set, the error rate is:\", train_error_rate)\n",
    "print(\"On the test set, the error rate is:\", test_error_rate)"
   ]
  },
  {
   "cell_type": "markdown",
   "id": "26c78a97-7205-431a-8f20-cf8dc110a303",
   "metadata": {},
   "source": [
    "## Q3. Logistic regression (24%)"
   ]
  },
  {
   "cell_type": "code",
   "execution_count": 62,
   "id": "90afebe3-140f-4328-a6be-cb9dfc6cb201",
   "metadata": {},
   "outputs": [],
   "source": [
    "def sigmoid(x):\n",
    "    \"\"\"\n",
    "    Compute the sigmoid(`x`)\n",
    "    \"\"\"\n",
    "    return 1/(1 + np.exp(-x))\n",
    "\n",
    "def mu(w, X):\n",
    "    \"\"\"\n",
    "    Compute the sigmoid(`-w^Tx`) for N feature vectors\n",
    "    \"\"\"\n",
    "    mu_ = []\n",
    "    for i in range(X.shape[0]):\n",
    "        mu_.append(sigmoid(np.transpose(w).dot(X[i])))\n",
    "        \n",
    "    return np.array(mu_)\n",
    "\n",
    "def NLL(w, X, Y):\n",
    "    \"\"\"\n",
    "    Compute the Negative Log Likelihood, NLL(`w`)\n",
    "    \"\"\"\n",
    "    nll_sum = 0\n",
    "    mu_ = mu(w, X)\n",
    "    for i in range(Y.shape[0]):\n",
    "        nll_sum += Y[i]*np.log(mu[i]) + (1 - Y[i])*np.log(1 - mu[i])\n",
    "        \n",
    "    return -nll_sum\n",
    "\n",
    "def NLLReg(w_, X_, Y, _lambda):\n",
    "    \"\"\"\n",
    "    Compute the Negative Log Likelihood with l2 regularization, NLL_reg(`w_`)\n",
    "    \"\"\"\n",
    "    return NLL(w_, X_, Y) + 0.5*_lambda*np.transpose(w_).dot(w_)\n",
    "\n",
    "def g(mu_, X_, Y):\n",
    "    \"\"\"\n",
    "    Compute NLL's first derivatives `g`\n",
    "    \"\"\"\n",
    "    return np.transpose(X_).dot(mu_ - Y)\n",
    "\n",
    "def hessian(mu_, X_):\n",
    "    \"\"\"\n",
    "    Compute NLL's second derivatives, the Hessian Matrix `H`\n",
    "    \"\"\"\n",
    "    for i in range(mu_.shape[0]):\n",
    "        mu_[i] = mu_[i]*(1 - mu_[i])\n",
    "    S = np.diag(mu_.reshape(mu_.shape[0]))\n",
    "\n",
    "    return np.transpose(X_).dot(S).dot(X_)\n",
    "\n",
    "def newtonsMethod(w, X, Y, k_max, _lambda, eta, tolerance):\n",
    "    \"\"\"\n",
    "    Optimization with Newton's Method\n",
    "    \"\"\"\n",
    "    w_ = np.insert(w, 0, 0.0, axis=0)\n",
    "    X_ = np.insert(X, 0, 1.0, axis=1)\n",
    "    w_curr = w_\n",
    "    \n",
    "    diag_v = np.ones(w_.shape[0])\n",
    "    diag_v[0] = 0.0\n",
    "    \n",
    "    for i in range(k_max):\n",
    "        v = np.copy(w_curr)\n",
    "        v[0] = 0.0\n",
    "        mu_ = mu(w_curr, X_)\n",
    "        g_reg = g(mu_, X_, Y) + _lambda*v\n",
    "        H_reg = hessian(mu_, X_) + _lambda*np.diag(diag_v)\n",
    "        d = np.linalg.inv(H_reg).dot(-g_reg)\n",
    "        \n",
    "        if np.average((d/w_curr)) < tolerance:\n",
    "            # print(\"Optimization finished at iteration:\", i)\n",
    "            break\n",
    "        else:\n",
    "            w_next = w_curr + eta*d\n",
    "            w_curr = w_next\n",
    "        \n",
    "    return w_next\n",
    "\n",
    "def logisticRegressionPredict(w_, X_test):\n",
    "    \"\"\"\n",
    "    Predict the results `Y_pred` based on the given weights `w_`\n",
    "    \"\"\"\n",
    "    X_ = np.insert(X_test, 0, 1.0, axis=1)\n",
    "    # Start Prediction\n",
    "    mu_test = mu(w_, X_)\n",
    "    Y_pred = np.zeros((X_test.shape[0], 1), dtype=int)\n",
    "    for i in range(mu_test.shape[0]):\n",
    "        P_1 = np.log(mu_test[i])\n",
    "        P_0 = np.log(1 - mu_test[i])\n",
    "        if P_1 > P_0:\n",
    "            Y_pred[i][0] = 1\n",
    "\n",
    "    return Y_pred\n",
    "\n",
    "def computeErrorRate(w_, X_test, Y_test):\n",
    "    \"\"\"\n",
    "    Compute the Error Rate based on the `Y_pred` result and the given ground truth `Y_test`, \n",
    "    with a given alpha values\n",
    "    \"\"\"\n",
    "    Y_pred = logisticRegressionPredict(w_, X_test)\n",
    "    num_error = (Y_pred != Y_test).sum()\n",
    "    return num_error/Y_test.shape[0]\n",
    "\n",
    "def compareLambdas(X_train, Y_train, X_test, Y_test, lambdas, lr, tol, k_max):\n",
    "    \"\"\"\n",
    "    Compute the Error Rate based on the `Y_pred` result and the given ground truth `Y_test`, \n",
    "    with varying lambda values\n",
    "    \"\"\"\n",
    "    train_error_rates = np.zeros((lambdas.shape[0], 1))\n",
    "    test_error_rates = np.zeros((lambdas.shape[0], 1))\n",
    "    for i in tqdm(range(lambdas.shape[0])):\n",
    "        # Start Training\n",
    "        w = np.zeros((x_train_log.shape[1], 1))\n",
    "        w = newtonsMethod(w, x_train_log, y_train, k_max, lambdas[i], lr, tolerance)\n",
    "        # Start Prediction\n",
    "        train_error_rates[i] = computeErrorRate(w, X_train, Y_train)\n",
    "        test_error_rates[i] = computeErrorRate(w, X_test, Y_test)\n",
    "        \n",
    "    return train_error_rates, test_error_rates\n",
    "    "
   ]
  },
  {
   "cell_type": "markdown",
   "id": "7798f0cf-18d9-4bac-8558-637a894a2ef8",
   "metadata": {},
   "source": [
    "### Train, Predict and Plot"
   ]
  },
  {
   "cell_type": "code",
   "execution_count": 66,
   "id": "9fae5ac3-2c09-43f9-bc1d-22bc6d2b39b2",
   "metadata": {},
   "outputs": [
    {
     "name": "stdout",
     "output_type": "stream",
     "text": [
      "[  1   2   3   4   5   6   7   8   9  10  15  20  25  30  35  40  45  50\n",
      "  55  60  65  70  75  80  85  90  95 100]\n",
      "Plotting error rates...\n"
     ]
    },
    {
     "name": "stderr",
     "output_type": "stream",
     "text": [
      "  0%|                                                                                  | 0/28 [00:00<?, ?it/s]/var/folders/fg/jctl91s50mlb_ynfb3z_7xx80000gn/T/ipykernel_25647/4069521022.py:69: RuntimeWarning: divide by zero encountered in true_divide\n",
      "  if np.average((d/w_curr)) < tolerance:\n",
      "/Users/ss/opt/anaconda3/envs/pr/lib/python3.8/site-packages/numpy/core/_methods.py:178: RuntimeWarning: invalid value encountered in reduce\n",
      "  ret = umr_sum(arr, axis, dtype, out, keepdims, where=where)\n",
      "100%|█████████████████████████████████████████████████████████████████████████| 28/28 [01:42<00:00,  3.64s/it]\n"
     ]
    },
    {
     "data": {
      "image/png": "[encoded data removed]",
      "text/plain": [
       "<Figure size 432x288 with 1 Axes>"
      ]
     },
     "metadata": {
      "needs_background": "light"
     },
     "output_type": "display_data"
    },
    {
     "name": "stdout",
     "output_type": "stream",
     "text": [
      "On the training set, the error rates for α = 1, 10, 100 are respectively: [0.05644372] , [0.05774878] , [0.062969]\n",
      "On the test set, the error rates for α = 1, 10, 100 are respectively: [0.06575521] , [0.06510417] , [0.06901042]\n"
     ]
    }
   ],
   "source": [
    "# Hyperparameters\n",
    "lr = 0.01\n",
    "tol = 1e-6\n",
    "k_max = 1000\n",
    "\n",
    "# Set experimenting lambda values\n",
    "lambdas = np.concatenate((np.arange(1, 10, 1), np.arange(10, 105, 5)), axis=None)\n",
    "print(lambdas)\n",
    "\n",
    "print(\"Plotting error rates...\")\n",
    "train_error_rates, test_error_rates = compareLambdas(x_train_log, y_train, x_test_log, y_test, lambdas, lr, tol, k_max)\n",
    "\n",
    "# Plotting\n",
    "fig, ax = plt.subplots()\n",
    "line1, = ax.plot(lambdas, train_error_rates, label='training')\n",
    "line2, = ax.plot(lambdas, test_error_rates, dashes=[6, 2], label='test')\n",
    "\n",
    "ax.set(xlabel='λ', ylabel='error rate', title='Q3. Logistic Regression')\n",
    "ax.legend()\n",
    "ax.grid()\n",
    "\n",
    "fig.savefig(\"pics/q3.png\")\n",
    "plt.show()\n",
    "\n",
    "# Print some results\n",
    "print(\"On the training set, the error rates for λ = 1, 10, 100 are respectively:\", \n",
    "      train_error_rates[0], \",\", train_error_rates[9], \",\", train_error_rates[-1])\n",
    "print(\"On the test set, the error rates for λ = 1, 10, 100 are respectively:\", \n",
    "      test_error_rates[0], \",\", test_error_rates[9], \",\", test_error_rates[-1])"
   ]
  },
  {
   "cell_type": "markdown",
   "id": "fc8ca0f5-ee13-4d45-91e5-3e4f510683f8",
   "metadata": {},
   "source": [
    "## Q4. K-Nearest Neighbors (24%)"
   ]
  },
  {
   "cell_type": "code",
   "execution_count": 120,
   "id": "926cd4f9-4256-4b1f-9640-e5a8c1fd16e0",
   "metadata": {},
   "outputs": [],
   "source": [
    "def euclideaniDist(a, b):\n",
    "    \"\"\"\n",
    "    Compute the euclidean distance between two feature vectors\n",
    "    \"\"\"\n",
    "    dist = 0\n",
    "    for j in range(a.shape[0]):\n",
    "        dist += np.power((a[j] - b[j]), 2)\n",
    "        \n",
    "    return np.sqrt(dist)\n",
    "\n",
    "def sortNN(X_train, Y_train, x_test):\n",
    "    \"\"\"\n",
    "    sort the training data based on the euclidean distance to the test data `x_test`\n",
    "    \"\"\"\n",
    "    dists = []\n",
    "    for i in range(X_train.shape[0]):\n",
    "        dists.append(euclideaniDist(X_train[i], x_test))\n",
    "    idxs = np.argsort(np.array(dists))\n",
    "    return idxs\n",
    "\n",
    "def KNNPredict(X_train, Y_train, X_test, Ks):\n",
    "    \"\"\"\n",
    "    Predict class labels for `X_test` using `K` Nearest Neighbors \n",
    "    \"\"\"\n",
    "    Y_pred = np.zeros((X_test.shape[0], Ks.shape[0]), dtype=int)\n",
    "    # loop through all test data\n",
    "    for i in tqdm(range(X_test.shape[0])):\n",
    "        idxs = sortNN(X_train, Y_train, X_test[i])\n",
    "\n",
    "        # for each K value, estimate the resulted class labels\n",
    "        for k in range(Ks.shape[0]):\n",
    "            k_1 = (Y_train[idxs[:Ks[k]]] == 1).sum()\n",
    "            P_1 = k_1/Ks[k]\n",
    "            if P_1 > 0.5:\n",
    "                Y_pred[i][k] = 1\n",
    "            \n",
    "    return Y_pred\n",
    "    \n",
    "def computeErrorRate(X_train, Y_train, X_test, Y_test, Ks):\n",
    "    \"\"\"\n",
    "    Compute the Error Rate based on the `Y_pred` result and the given ground truth `Y_test`, \n",
    "    with a given K value\n",
    "    \"\"\"\n",
    "    error_rates = np.zeros((Ks.shape[0], 1))\n",
    "    Y_pred = KNNPredict(X_train, Y_train, X_test, Ks)\n",
    "    \n",
    "    for k in tqdm(range(Ks.shape[0])):\n",
    "        y_pred = Y_pred[:, k].reshape(-1, 1)\n",
    "        num_error = (y_pred != Y_test).sum()\n",
    "        #print(\"y_pred\", y_pred)\n",
    "        error_rates[k] = num_error/Y_test.shape[0]\n",
    "    \n",
    "    return error_rates"
   ]
  },
  {
   "cell_type": "markdown",
   "id": "2c6aa223-42a8-4f5b-aa8f-bde661910fee",
   "metadata": {},
   "source": [
    "### Predict and Plot Results"
   ]
  },
  {
   "cell_type": "code",
   "execution_count": 121,
   "id": "74b193fd-d9a7-48ae-b3cd-5ab3dac34793",
   "metadata": {},
   "outputs": [
    {
     "name": "stdout",
     "output_type": "stream",
     "text": [
      "K values: [  1   2   3   4   5   6   7   8   9  10  15  20  25  30  35  40  45  50\n",
      "  55  60  65  70  75  80  85  90  95 100]\n",
      "Plotting error rates...\n"
     ]
    },
    {
     "name": "stderr",
     "output_type": "stream",
     "text": [
      "100%|█████████████████████████████████████████████████████████████████████| 3065/3065 [17:15<00:00,  2.96it/s]\n",
      "100%|██████████████████████████████████████████████████████████████████████| 28/28 [00:00<00:00, 12027.91it/s]\n",
      "100%|█████████████████████████████████████████████████████████████████████| 1536/1536 [08:31<00:00,  3.00it/s]\n",
      "100%|██████████████████████████████████████████████████████████████████████| 28/28 [00:00<00:00, 15810.52it/s]\n"
     ]
    },
    {
     "data": {
      "image/png": "[encoded data removed]",
      "text/plain": [
       "<Figure size 432x288 with 1 Axes>"
      ]
     },
     "metadata": {
      "needs_background": "light"
     },
     "output_type": "display_data"
    },
    {
     "name": "stdout",
     "output_type": "stream",
     "text": [
      "On the training set, the error rates for K = 1, 10, 100 are respectively: [0.00065253] , [0.05318108] , [0.09168026]\n",
      "On the test set, the error rates for K = 1, 10, 100 are respectively: [0.06966146] , [0.06770833] , [0.10026042]\n"
     ]
    }
   ],
   "source": [
    "# Set experimenting lambda values\n",
    "Ks = np.concatenate((np.arange(1, 10, 1), np.arange(10, 105, 5)), axis=None)\n",
    "print(\"K values:\", Ks)\n",
    "\n",
    "print(\"Plotting error rates...\")\n",
    "train_error_rates = computeErrorRate(x_train_log, y_train, x_train_log, y_train, Ks)\n",
    "test_error_rates = computeErrorRate(x_train_log, y_train, x_test_log, y_test, Ks)\n",
    "\n",
    "# Plotting\n",
    "fig, ax = plt.subplots()\n",
    "line1, = ax.plot(Ks, train_error_rates, label='training')\n",
    "line2, = ax.plot(Ks, test_error_rates, dashes=[6, 2], label='test')\n",
    "\n",
    "ax.set(xlabel='K', ylabel='error rate', title='Q4. K-Nearest Neighbors')\n",
    "ax.legend()\n",
    "ax.grid()\n",
    "\n",
    "fig.savefig(\"pics/q4.png\")\n",
    "plt.show()\n",
    "\n",
    "# Print some results\n",
    "print(\"On the training set, the error rates for K = 1, 10, 100 are respectively:\", \n",
    "      train_error_rates[0], \",\", train_error_rates[9], \",\", train_error_rates[-1])\n",
    "print(\"On the test set, the error rates for K = 1, 10, 100 are respectively:\", \n",
    "      test_error_rates[0], \",\", test_error_rates[9], \",\", test_error_rates[-1])"
   ]
  },
  {
   "cell_type": "code",
   "execution_count": null,
   "id": "9afc39fe-66d4-4c7b-a936-66482ceb2284",
   "metadata": {},
   "outputs": [],
   "source": []
  }
 ],
 "metadata": {
  "kernelspec": {
   "display_name": "Python 3 (ipykernel)",
   "language": "python",
   "name": "python3"
  },
  "language_info": {
   "codemirror_mode": {
    "name": "ipython",
    "version": 3
   },
   "file_extension": ".py",
   "mimetype": "text/x-python",
   "name": "python",
   "nbconvert_exporter": "python",
   "pygments_lexer": "ipython3",
   "version": "3.8.11"
  },
  "toc-showmarkdowntxt": false,
  "toc-showtags": false
 },
 "nbformat": 4,
 "nbformat_minor": 5
}
